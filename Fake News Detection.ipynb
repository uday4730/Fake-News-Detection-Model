{
 "cells": [
  {
   "cell_type": "code",
   "execution_count": 29,
   "id": "aad3cdd4",
   "metadata": {},
   "outputs": [],
   "source": [
    "import numpy as np\n",
    "import pandas as pd\n",
    "\n",
    "import matplotlib.pyplot as plt\n",
    "import itertools\n",
    "from sklearn.model_selection import train_test_split\n",
    "from sklearn.feature_extraction.text import TfidfVectorizer\n",
    "from sklearn.linear_model import PassiveAggressiveClassifier\n",
    "from sklearn.metrics import accuracy_score, confusion_matrix"
   ]
  },
  {
   "cell_type": "code",
   "execution_count": 30,
   "id": "5cb53272",
   "metadata": {},
   "outputs": [
    {
     "data": {
      "text/html": [
       "<div>\n",
       "<style scoped>\n",
       "    .dataframe tbody tr th:only-of-type {\n",
       "        vertical-align: middle;\n",
       "    }\n",
       "\n",
       "    .dataframe tbody tr th {\n",
       "        vertical-align: top;\n",
       "    }\n",
       "\n",
       "    .dataframe thead th {\n",
       "        text-align: right;\n",
       "    }\n",
       "</style>\n",
       "<table border=\"1\" class=\"dataframe\">\n",
       "  <thead>\n",
       "    <tr style=\"text-align: right;\">\n",
       "      <th></th>\n",
       "      <th>title</th>\n",
       "      <th>news_url</th>\n",
       "      <th>source_domain</th>\n",
       "      <th>tweet_num</th>\n",
       "      <th>real</th>\n",
       "    </tr>\n",
       "  </thead>\n",
       "  <tbody>\n",
       "    <tr>\n",
       "      <th>0</th>\n",
       "      <td>Kandi Burruss Explodes Over Rape Accusation on...</td>\n",
       "      <td>http://toofab.com/2017/05/08/real-housewives-a...</td>\n",
       "      <td>toofab.com</td>\n",
       "      <td>42</td>\n",
       "      <td>1</td>\n",
       "    </tr>\n",
       "    <tr>\n",
       "      <th>1</th>\n",
       "      <td>People's Choice Awards 2018: The best red carp...</td>\n",
       "      <td>https://www.today.com/style/see-people-s-choic...</td>\n",
       "      <td>www.today.com</td>\n",
       "      <td>0</td>\n",
       "      <td>1</td>\n",
       "    </tr>\n",
       "    <tr>\n",
       "      <th>2</th>\n",
       "      <td>Sophia Bush Sends Sweet Birthday Message to 'O...</td>\n",
       "      <td>https://www.etonline.com/news/220806_sophia_bu...</td>\n",
       "      <td>www.etonline.com</td>\n",
       "      <td>63</td>\n",
       "      <td>1</td>\n",
       "    </tr>\n",
       "    <tr>\n",
       "      <th>3</th>\n",
       "      <td>Colombian singer Maluma sparks rumours of inap...</td>\n",
       "      <td>https://www.dailymail.co.uk/news/article-33655...</td>\n",
       "      <td>www.dailymail.co.uk</td>\n",
       "      <td>20</td>\n",
       "      <td>1</td>\n",
       "    </tr>\n",
       "    <tr>\n",
       "      <th>4</th>\n",
       "      <td>Gossip Girl 10 Years Later: How Upper East Sid...</td>\n",
       "      <td>https://www.zerchoo.com/entertainment/gossip-g...</td>\n",
       "      <td>www.zerchoo.com</td>\n",
       "      <td>38</td>\n",
       "      <td>1</td>\n",
       "    </tr>\n",
       "  </tbody>\n",
       "</table>\n",
       "</div>"
      ],
      "text/plain": [
       "                                               title  \\\n",
       "0  Kandi Burruss Explodes Over Rape Accusation on...   \n",
       "1  People's Choice Awards 2018: The best red carp...   \n",
       "2  Sophia Bush Sends Sweet Birthday Message to 'O...   \n",
       "3  Colombian singer Maluma sparks rumours of inap...   \n",
       "4  Gossip Girl 10 Years Later: How Upper East Sid...   \n",
       "\n",
       "                                            news_url        source_domain  \\\n",
       "0  http://toofab.com/2017/05/08/real-housewives-a...           toofab.com   \n",
       "1  https://www.today.com/style/see-people-s-choic...        www.today.com   \n",
       "2  https://www.etonline.com/news/220806_sophia_bu...     www.etonline.com   \n",
       "3  https://www.dailymail.co.uk/news/article-33655...  www.dailymail.co.uk   \n",
       "4  https://www.zerchoo.com/entertainment/gossip-g...      www.zerchoo.com   \n",
       "\n",
       "   tweet_num  real  \n",
       "0         42     1  \n",
       "1          0     1  \n",
       "2         63     1  \n",
       "3         20     1  \n",
       "4         38     1  "
      ]
     },
     "execution_count": 30,
     "metadata": {},
     "output_type": "execute_result"
    }
   ],
   "source": [
    "df = pd.read_csv('Downloads\\FakeNewsNet.csv')\n",
    "\n",
    "df.shape\n",
    "df.head()"
   ]
  },
  {
   "cell_type": "code",
   "execution_count": 31,
   "id": "6ddb54ed",
   "metadata": {},
   "outputs": [
    {
     "data": {
      "text/html": [
       "<div>\n",
       "<style scoped>\n",
       "    .dataframe tbody tr th:only-of-type {\n",
       "        vertical-align: middle;\n",
       "    }\n",
       "\n",
       "    .dataframe tbody tr th {\n",
       "        vertical-align: top;\n",
       "    }\n",
       "\n",
       "    .dataframe thead th {\n",
       "        text-align: right;\n",
       "    }\n",
       "</style>\n",
       "<table border=\"1\" class=\"dataframe\">\n",
       "  <thead>\n",
       "    <tr style=\"text-align: right;\">\n",
       "      <th></th>\n",
       "      <th>title</th>\n",
       "      <th>news_url</th>\n",
       "      <th>source_domain</th>\n",
       "      <th>tweet_num</th>\n",
       "      <th>real</th>\n",
       "    </tr>\n",
       "  </thead>\n",
       "  <tbody>\n",
       "    <tr>\n",
       "      <th>23191</th>\n",
       "      <td>Pippa Middleton wedding: In case you missed it...</td>\n",
       "      <td>https://www.express.co.uk/news/royal/807049/pi...</td>\n",
       "      <td>www.express.co.uk</td>\n",
       "      <td>52</td>\n",
       "      <td>1</td>\n",
       "    </tr>\n",
       "    <tr>\n",
       "      <th>23192</th>\n",
       "      <td>Zayn Malik &amp; Gigi Hadid’s Shocking Split: Why ...</td>\n",
       "      <td>hollywoodlife.com/2018/03/13/zayn-malik-gigi-h...</td>\n",
       "      <td>hollywoodlife.com</td>\n",
       "      <td>7</td>\n",
       "      <td>0</td>\n",
       "    </tr>\n",
       "    <tr>\n",
       "      <th>23193</th>\n",
       "      <td>Jessica Chastain Recalls the Moment Her Mother...</td>\n",
       "      <td>http://www.justjared.com/2018/01/17/jessica-ch...</td>\n",
       "      <td>www.justjared.com</td>\n",
       "      <td>26</td>\n",
       "      <td>1</td>\n",
       "    </tr>\n",
       "    <tr>\n",
       "      <th>23194</th>\n",
       "      <td>Tristan Thompson Feels \"Dumped\" After Khloé Ka...</td>\n",
       "      <td>www.intouchweekly.com/posts/tristan-thompson-f...</td>\n",
       "      <td>www.intouchweekly.com</td>\n",
       "      <td>24</td>\n",
       "      <td>0</td>\n",
       "    </tr>\n",
       "    <tr>\n",
       "      <th>23195</th>\n",
       "      <td>Kelly Clarkson Performs a Medley of Kendrick L...</td>\n",
       "      <td>https://www.billboard.com/articles/news/bbma/8...</td>\n",
       "      <td>www.billboard.com</td>\n",
       "      <td>85</td>\n",
       "      <td>1</td>\n",
       "    </tr>\n",
       "  </tbody>\n",
       "</table>\n",
       "</div>"
      ],
      "text/plain": [
       "                                                   title  \\\n",
       "23191  Pippa Middleton wedding: In case you missed it...   \n",
       "23192  Zayn Malik & Gigi Hadid’s Shocking Split: Why ...   \n",
       "23193  Jessica Chastain Recalls the Moment Her Mother...   \n",
       "23194  Tristan Thompson Feels \"Dumped\" After Khloé Ka...   \n",
       "23195  Kelly Clarkson Performs a Medley of Kendrick L...   \n",
       "\n",
       "                                                news_url  \\\n",
       "23191  https://www.express.co.uk/news/royal/807049/pi...   \n",
       "23192  hollywoodlife.com/2018/03/13/zayn-malik-gigi-h...   \n",
       "23193  http://www.justjared.com/2018/01/17/jessica-ch...   \n",
       "23194  www.intouchweekly.com/posts/tristan-thompson-f...   \n",
       "23195  https://www.billboard.com/articles/news/bbma/8...   \n",
       "\n",
       "               source_domain  tweet_num  real  \n",
       "23191      www.express.co.uk         52     1  \n",
       "23192      hollywoodlife.com          7     0  \n",
       "23193      www.justjared.com         26     1  \n",
       "23194  www.intouchweekly.com         24     0  \n",
       "23195      www.billboard.com         85     1  "
      ]
     },
     "execution_count": 31,
     "metadata": {},
     "output_type": "execute_result"
    }
   ],
   "source": [
    "df.tail()"
   ]
  },
  {
   "cell_type": "code",
   "execution_count": 32,
   "id": "1aacd49f",
   "metadata": {},
   "outputs": [
    {
     "data": {
      "text/plain": [
       "(23196, 5)"
      ]
     },
     "execution_count": 32,
     "metadata": {},
     "output_type": "execute_result"
    }
   ],
   "source": [
    "df.shape"
   ]
  },
  {
   "cell_type": "code",
   "execution_count": 33,
   "id": "81507cdf",
   "metadata": {},
   "outputs": [
    {
     "data": {
      "text/plain": [
       "<bound method DataFrame.info of                                                    title  \\\n",
       "0      Kandi Burruss Explodes Over Rape Accusation on...   \n",
       "1      People's Choice Awards 2018: The best red carp...   \n",
       "2      Sophia Bush Sends Sweet Birthday Message to 'O...   \n",
       "3      Colombian singer Maluma sparks rumours of inap...   \n",
       "4      Gossip Girl 10 Years Later: How Upper East Sid...   \n",
       "...                                                  ...   \n",
       "23191  Pippa Middleton wedding: In case you missed it...   \n",
       "23192  Zayn Malik & Gigi Hadid’s Shocking Split: Why ...   \n",
       "23193  Jessica Chastain Recalls the Moment Her Mother...   \n",
       "23194  Tristan Thompson Feels \"Dumped\" After Khloé Ka...   \n",
       "23195  Kelly Clarkson Performs a Medley of Kendrick L...   \n",
       "\n",
       "                                                news_url  \\\n",
       "0      http://toofab.com/2017/05/08/real-housewives-a...   \n",
       "1      https://www.today.com/style/see-people-s-choic...   \n",
       "2      https://www.etonline.com/news/220806_sophia_bu...   \n",
       "3      https://www.dailymail.co.uk/news/article-33655...   \n",
       "4      https://www.zerchoo.com/entertainment/gossip-g...   \n",
       "...                                                  ...   \n",
       "23191  https://www.express.co.uk/news/royal/807049/pi...   \n",
       "23192  hollywoodlife.com/2018/03/13/zayn-malik-gigi-h...   \n",
       "23193  http://www.justjared.com/2018/01/17/jessica-ch...   \n",
       "23194  www.intouchweekly.com/posts/tristan-thompson-f...   \n",
       "23195  https://www.billboard.com/articles/news/bbma/8...   \n",
       "\n",
       "               source_domain  tweet_num  real  \n",
       "0                 toofab.com         42     1  \n",
       "1              www.today.com          0     1  \n",
       "2           www.etonline.com         63     1  \n",
       "3        www.dailymail.co.uk         20     1  \n",
       "4            www.zerchoo.com         38     1  \n",
       "...                      ...        ...   ...  \n",
       "23191      www.express.co.uk         52     1  \n",
       "23192      hollywoodlife.com          7     0  \n",
       "23193      www.justjared.com         26     1  \n",
       "23194  www.intouchweekly.com         24     0  \n",
       "23195      www.billboard.com         85     1  \n",
       "\n",
       "[23196 rows x 5 columns]>"
      ]
     },
     "execution_count": 33,
     "metadata": {},
     "output_type": "execute_result"
    }
   ],
   "source": [
    "df.info"
   ]
  },
  {
   "cell_type": "code",
   "execution_count": 35,
   "id": "92bdfbac",
   "metadata": {},
   "outputs": [
    {
     "name": "stdout",
     "output_type": "stream",
     "text": [
      "Any missing value ? True\n"
     ]
    }
   ],
   "source": [
    "print(\"Any missing value ?\",df.isnull().values.any())"
   ]
  },
  {
   "cell_type": "code",
   "execution_count": 37,
   "id": "06e8206f",
   "metadata": {},
   "outputs": [
    {
     "data": {
      "text/plain": [
       "title            0.000000\n",
       "news_url         1.422659\n",
       "source_domain    1.422659\n",
       "tweet_num        0.000000\n",
       "real             0.000000\n",
       "dtype: float64"
      ]
     },
     "execution_count": 37,
     "metadata": {},
     "output_type": "execute_result"
    }
   ],
   "source": [
    "per_missing = df.isnull().sum()*100 / len(df)\n",
    "per_missing"
   ]
  },
  {
   "cell_type": "code",
   "execution_count": 38,
   "id": "028365d7",
   "metadata": {},
   "outputs": [
    {
     "data": {
      "text/html": [
       "<div>\n",
       "<style scoped>\n",
       "    .dataframe tbody tr th:only-of-type {\n",
       "        vertical-align: middle;\n",
       "    }\n",
       "\n",
       "    .dataframe tbody tr th {\n",
       "        vertical-align: top;\n",
       "    }\n",
       "\n",
       "    .dataframe thead th {\n",
       "        text-align: right;\n",
       "    }\n",
       "</style>\n",
       "<table border=\"1\" class=\"dataframe\">\n",
       "  <thead>\n",
       "    <tr style=\"text-align: right;\">\n",
       "      <th></th>\n",
       "      <th>title</th>\n",
       "      <th>news_url</th>\n",
       "      <th>source_domain</th>\n",
       "      <th>tweet_num</th>\n",
       "      <th>real</th>\n",
       "    </tr>\n",
       "  </thead>\n",
       "  <tbody>\n",
       "    <tr>\n",
       "      <th>0</th>\n",
       "      <td>Kandi Burruss Explodes Over Rape Accusation on...</td>\n",
       "      <td>http://toofab.com/2017/05/08/real-housewives-a...</td>\n",
       "      <td>toofab.com</td>\n",
       "      <td>42</td>\n",
       "      <td>1</td>\n",
       "    </tr>\n",
       "    <tr>\n",
       "      <th>1</th>\n",
       "      <td>People's Choice Awards 2018: The best red carp...</td>\n",
       "      <td>https://www.today.com/style/see-people-s-choic...</td>\n",
       "      <td>www.today.com</td>\n",
       "      <td>0</td>\n",
       "      <td>1</td>\n",
       "    </tr>\n",
       "    <tr>\n",
       "      <th>2</th>\n",
       "      <td>Sophia Bush Sends Sweet Birthday Message to 'O...</td>\n",
       "      <td>https://www.etonline.com/news/220806_sophia_bu...</td>\n",
       "      <td>www.etonline.com</td>\n",
       "      <td>63</td>\n",
       "      <td>1</td>\n",
       "    </tr>\n",
       "    <tr>\n",
       "      <th>3</th>\n",
       "      <td>Colombian singer Maluma sparks rumours of inap...</td>\n",
       "      <td>https://www.dailymail.co.uk/news/article-33655...</td>\n",
       "      <td>www.dailymail.co.uk</td>\n",
       "      <td>20</td>\n",
       "      <td>1</td>\n",
       "    </tr>\n",
       "    <tr>\n",
       "      <th>4</th>\n",
       "      <td>Gossip Girl 10 Years Later: How Upper East Sid...</td>\n",
       "      <td>https://www.zerchoo.com/entertainment/gossip-g...</td>\n",
       "      <td>www.zerchoo.com</td>\n",
       "      <td>38</td>\n",
       "      <td>1</td>\n",
       "    </tr>\n",
       "    <tr>\n",
       "      <th>...</th>\n",
       "      <td>...</td>\n",
       "      <td>...</td>\n",
       "      <td>...</td>\n",
       "      <td>...</td>\n",
       "      <td>...</td>\n",
       "    </tr>\n",
       "    <tr>\n",
       "      <th>23191</th>\n",
       "      <td>Pippa Middleton wedding: In case you missed it...</td>\n",
       "      <td>https://www.express.co.uk/news/royal/807049/pi...</td>\n",
       "      <td>www.express.co.uk</td>\n",
       "      <td>52</td>\n",
       "      <td>1</td>\n",
       "    </tr>\n",
       "    <tr>\n",
       "      <th>23192</th>\n",
       "      <td>Zayn Malik &amp; Gigi Hadid’s Shocking Split: Why ...</td>\n",
       "      <td>hollywoodlife.com/2018/03/13/zayn-malik-gigi-h...</td>\n",
       "      <td>hollywoodlife.com</td>\n",
       "      <td>7</td>\n",
       "      <td>0</td>\n",
       "    </tr>\n",
       "    <tr>\n",
       "      <th>23193</th>\n",
       "      <td>Jessica Chastain Recalls the Moment Her Mother...</td>\n",
       "      <td>http://www.justjared.com/2018/01/17/jessica-ch...</td>\n",
       "      <td>www.justjared.com</td>\n",
       "      <td>26</td>\n",
       "      <td>1</td>\n",
       "    </tr>\n",
       "    <tr>\n",
       "      <th>23194</th>\n",
       "      <td>Tristan Thompson Feels \"Dumped\" After Khloé Ka...</td>\n",
       "      <td>www.intouchweekly.com/posts/tristan-thompson-f...</td>\n",
       "      <td>www.intouchweekly.com</td>\n",
       "      <td>24</td>\n",
       "      <td>0</td>\n",
       "    </tr>\n",
       "    <tr>\n",
       "      <th>23195</th>\n",
       "      <td>Kelly Clarkson Performs a Medley of Kendrick L...</td>\n",
       "      <td>https://www.billboard.com/articles/news/bbma/8...</td>\n",
       "      <td>www.billboard.com</td>\n",
       "      <td>85</td>\n",
       "      <td>1</td>\n",
       "    </tr>\n",
       "  </tbody>\n",
       "</table>\n",
       "<p>22866 rows × 5 columns</p>\n",
       "</div>"
      ],
      "text/plain": [
       "                                                   title  \\\n",
       "0      Kandi Burruss Explodes Over Rape Accusation on...   \n",
       "1      People's Choice Awards 2018: The best red carp...   \n",
       "2      Sophia Bush Sends Sweet Birthday Message to 'O...   \n",
       "3      Colombian singer Maluma sparks rumours of inap...   \n",
       "4      Gossip Girl 10 Years Later: How Upper East Sid...   \n",
       "...                                                  ...   \n",
       "23191  Pippa Middleton wedding: In case you missed it...   \n",
       "23192  Zayn Malik & Gigi Hadid’s Shocking Split: Why ...   \n",
       "23193  Jessica Chastain Recalls the Moment Her Mother...   \n",
       "23194  Tristan Thompson Feels \"Dumped\" After Khloé Ka...   \n",
       "23195  Kelly Clarkson Performs a Medley of Kendrick L...   \n",
       "\n",
       "                                                news_url  \\\n",
       "0      http://toofab.com/2017/05/08/real-housewives-a...   \n",
       "1      https://www.today.com/style/see-people-s-choic...   \n",
       "2      https://www.etonline.com/news/220806_sophia_bu...   \n",
       "3      https://www.dailymail.co.uk/news/article-33655...   \n",
       "4      https://www.zerchoo.com/entertainment/gossip-g...   \n",
       "...                                                  ...   \n",
       "23191  https://www.express.co.uk/news/royal/807049/pi...   \n",
       "23192  hollywoodlife.com/2018/03/13/zayn-malik-gigi-h...   \n",
       "23193  http://www.justjared.com/2018/01/17/jessica-ch...   \n",
       "23194  www.intouchweekly.com/posts/tristan-thompson-f...   \n",
       "23195  https://www.billboard.com/articles/news/bbma/8...   \n",
       "\n",
       "               source_domain  tweet_num  real  \n",
       "0                 toofab.com         42     1  \n",
       "1              www.today.com          0     1  \n",
       "2           www.etonline.com         63     1  \n",
       "3        www.dailymail.co.uk         20     1  \n",
       "4            www.zerchoo.com         38     1  \n",
       "...                      ...        ...   ...  \n",
       "23191      www.express.co.uk         52     1  \n",
       "23192      hollywoodlife.com          7     0  \n",
       "23193      www.justjared.com         26     1  \n",
       "23194  www.intouchweekly.com         24     0  \n",
       "23195      www.billboard.com         85     1  \n",
       "\n",
       "[22866 rows x 5 columns]"
      ]
     },
     "execution_count": 38,
     "metadata": {},
     "output_type": "execute_result"
    }
   ],
   "source": [
    "df.dropna(axis=0)"
   ]
  },
  {
   "cell_type": "code",
   "execution_count": 40,
   "id": "9f64251f",
   "metadata": {},
   "outputs": [
    {
     "name": "stdout",
     "output_type": "stream",
     "text": [
      "Are there any duplicated ? True\n"
     ]
    }
   ],
   "source": [
    "dup_data=df.duplicated().any()\n",
    "print(\"Are there any duplicated ?\",dup_data)"
   ]
  },
  {
   "cell_type": "code",
   "execution_count": 41,
   "id": "daf97efa",
   "metadata": {},
   "outputs": [
    {
     "data": {
      "text/plain": [
       "Index(['title', 'news_url', 'source_domain', 'tweet_num', 'real'], dtype='object')"
      ]
     },
     "execution_count": 41,
     "metadata": {},
     "output_type": "execute_result"
    }
   ],
   "source": [
    "df.columns"
   ]
  },
  {
   "cell_type": "code",
   "execution_count": 42,
   "id": "35567c1c",
   "metadata": {},
   "outputs": [
    {
     "data": {
      "text/plain": [
       "0    1\n",
       "1    1\n",
       "2    1\n",
       "3    1\n",
       "4    1\n",
       "Name: real, dtype: int64"
      ]
     },
     "execution_count": 42,
     "metadata": {},
     "output_type": "execute_result"
    }
   ],
   "source": [
    "labels=df.real\n",
    "labels.head()"
   ]
  },
  {
   "cell_type": "code",
   "execution_count": 57,
   "id": "adb0ce93",
   "metadata": {},
   "outputs": [],
   "source": [
    "x_train,x_test,y_train,y_test=train_test_split(df['title'], labels, test_size=0.2, random_state=7)"
   ]
  },
  {
   "cell_type": "code",
   "execution_count": 58,
   "id": "208b3b94",
   "metadata": {},
   "outputs": [],
   "source": [
    "tfidf_vectorizer=TfidfVectorizer(stop_words='english', max_df=0.7)\n",
    "tfidf_train=tfidf_vectorizer.fit_transform(x_train) \n",
    "tfidf_test=tfidf_vectorizer.transform(x_test)"
   ]
  },
  {
   "cell_type": "code",
   "execution_count": 59,
   "id": "0e394d84",
   "metadata": {},
   "outputs": [
    {
     "name": "stdout",
     "output_type": "stream",
     "text": [
      "Accuracy: 80.0%\n"
     ]
    },
    {
     "name": "stderr",
     "output_type": "stream",
     "text": [
      "C:\\Users\\UDAY\\anaconda3\\lib\\site-packages\\sklearn\\linear_model\\_stochastic_gradient.py:574: ConvergenceWarning: Maximum number of iteration reached before convergence. Consider increasing max_iter to improve the fit.\n",
      "  warnings.warn(\"Maximum number of iteration reached before \"\n"
     ]
    }
   ],
   "source": [
    "pac=PassiveAggressiveClassifier(max_iter=50)\n",
    "pac.fit(tfidf_train,y_train)\n",
    "\n",
    "y_pred=pac.predict(tfidf_test)\n",
    "score=accuracy_score(y_test,y_pred)\n",
    "print(f'Accuracy: {round(score*100,2)}%')"
   ]
  },
  {
   "cell_type": "code",
   "execution_count": 60,
   "id": "1e4393b1",
   "metadata": {},
   "outputs": [
    {
     "data": {
      "text/plain": [
       "array([[ 689,  460],\n",
       "       [ 468, 3023]], dtype=int64)"
      ]
     },
     "execution_count": 60,
     "metadata": {},
     "output_type": "execute_result"
    }
   ],
   "source": [
    "confusion_matrix(y_test,y_pred, labels=[0,1])"
   ]
  },
  {
   "cell_type": "code",
   "execution_count": null,
   "id": "83b5284d",
   "metadata": {},
   "outputs": [],
   "source": []
  }
 ],
 "metadata": {
  "kernelspec": {
   "display_name": "Python 3 (ipykernel)",
   "language": "python",
   "name": "python3"
  },
  "language_info": {
   "codemirror_mode": {
    "name": "ipython",
    "version": 3
   },
   "file_extension": ".py",
   "mimetype": "text/x-python",
   "name": "python",
   "nbconvert_exporter": "python",
   "pygments_lexer": "ipython3",
   "version": "3.9.7"
  }
 },
 "nbformat": 4,
 "nbformat_minor": 5
}
